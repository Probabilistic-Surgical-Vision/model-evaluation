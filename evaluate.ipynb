{
 "cells": [
  {
   "cell_type": "markdown",
   "metadata": {},
   "source": [
    "# Evaluate Models"
   ]
  },
  {
   "cell_type": "markdown",
   "metadata": {},
   "source": [
    "## Imports"
   ]
  },
  {
   "cell_type": "code",
   "execution_count": 1,
   "metadata": {
    "execution": {
     "iopub.execute_input": "2022-08-22T15:26:10.547555Z",
     "iopub.status.busy": "2022-08-22T15:26:10.546834Z",
     "iopub.status.idle": "2022-08-22T15:26:12.658878Z",
     "shell.execute_reply": "2022-08-22T15:26:12.658001Z",
     "shell.execute_reply.started": "2022-08-22T15:26:10.547477Z"
    }
   },
   "outputs": [],
   "source": [
    "import os.path\n",
    "\n",
    "import matplotlib.pyplot as plt\n",
    "\n",
    "import numpy as np\n",
    "\n",
    "import torch\n",
    "from torch.utils.data import DataLoader\n",
    "\n",
    "from torchvision import transforms\n",
    "\n",
    "import yaml\n",
    "import json\n",
    "\n",
    "from model import RandomlyConnectedModel\n",
    "\n",
    "from evaluation.hamlyn import evaluate_ssim\n",
    "from evaluation.scared import evaluate_keyframes\n",
    "from evaluation.utils import prepare_state_dict\n",
    "from evaluation import sparsification\n",
    "from evaluation import transforms as t\n",
    "\n",
    "from loaders.hamlyn import HamlynDataset\n",
    "from loaders.scared import SCAREDKeyframesLoader"
   ]
  },
  {
   "cell_type": "markdown",
   "metadata": {},
   "source": [
    "## Configuration"
   ]
  },
  {
   "cell_type": "code",
   "execution_count": 2,
   "metadata": {
    "execution": {
     "iopub.execute_input": "2022-08-22T15:26:14.001833Z",
     "iopub.status.busy": "2022-08-22T15:26:14.000541Z",
     "iopub.status.idle": "2022-08-22T15:26:14.006254Z",
     "shell.execute_reply": "2022-08-22T15:26:14.005604Z",
     "shell.execute_reply.started": "2022-08-22T15:26:14.001793Z"
    }
   },
   "outputs": [],
   "source": [
    "model_name = 'uncertainty-log.pt'\n",
    "model_config = 'uncertainty-config.yml'\n",
    "\n",
    "datasets_path = '../datasets/'\n",
    "hamlyn_path = os.path.join(datasets_path, 'da-vinci')\n",
    "scared_path = os.path.join(datasets_path, 'scared')\n",
    "\n",
    "batch_size = 8\n",
    "min_depth = 4.676 # mm\n",
    "max_depth = 180.554 # mm\n",
    "\n",
    "save_to = 'results'"
   ]
  },
  {
   "cell_type": "code",
   "execution_count": 3,
   "metadata": {
    "execution": {
     "iopub.execute_input": "2022-08-22T15:26:16.829024Z",
     "iopub.status.busy": "2022-08-22T15:26:16.828075Z",
     "iopub.status.idle": "2022-08-22T15:26:19.230621Z",
     "shell.execute_reply": "2022-08-22T15:26:19.229911Z",
     "shell.execute_reply.started": "2022-08-22T15:26:16.828990Z"
    }
   },
   "outputs": [
    {
     "name": "stdout",
     "output_type": "stream",
     "text": [
      "Using CUDA? True\n"
     ]
    }
   ],
   "source": [
    "device = torch.device('cuda') \\\n",
    "    if torch.cuda.is_available() \\\n",
    "    else torch.device('cpu')\n",
    "\n",
    "print(f'Using CUDA? {\"cuda\" in repr(device)}')\n",
    "\n",
    "with open(model_config) as f:\n",
    "    config = yaml.load(f, Loader=yaml.Loader)\n",
    "\n",
    "model = RandomlyConnectedModel(**config).to(device)\n",
    "\n",
    "model_stem = os.path.splitext(model_name)[0]\n",
    "model_save_to = os.path.join('results', model_stem)\n",
    "\n",
    "hamlyn_transform = transforms.Compose([\n",
    "    t.ResizeImage((256, 512)),\n",
    "    t.ToTensor()\n",
    "])\n",
    "\n",
    "scared_transform = transforms.Compose([\n",
    "    t.ResizeImage((1024, 1280)),\n",
    "    t.ToTensor()\n",
    "])\n",
    "\n",
    "results_dict = {}"
   ]
  },
  {
   "cell_type": "markdown",
   "metadata": {},
   "source": [
    "## Hamlyn SSIM/Sparsification"
   ]
  },
  {
   "cell_type": "markdown",
   "metadata": {},
   "source": [
    "### Setup"
   ]
  },
  {
   "cell_type": "code",
   "execution_count": 4,
   "metadata": {
    "execution": {
     "iopub.execute_input": "2022-08-22T14:50:28.439855Z",
     "iopub.status.busy": "2022-08-22T14:50:28.439616Z",
     "iopub.status.idle": "2022-08-22T14:50:31.398576Z",
     "shell.execute_reply": "2022-08-22T14:50:31.397730Z",
     "shell.execute_reply.started": "2022-08-22T14:50:28.439834Z"
    }
   },
   "outputs": [],
   "source": [
    "hamlyn_model_path = os.path.join('models', 'hamlyn', model_name)\n",
    "hamlyn_save_to = os.path.join(model_save_to, 'hamlyn')\n",
    "\n",
    "state_dict = torch.load(hamlyn_model_path, map_location=device)\n",
    "state_dict = prepare_state_dict(state_dict)\n",
    "\n",
    "model.load_state_dict(state_dict)\n",
    "\n",
    "hamlyn_dataset = HamlynDataset(hamlyn_path, 'test', hamlyn_transform)\n",
    "hamlyn_dataloader = DataLoader(hamlyn_dataset, batch_size, num_workers=8,\n",
    "                               shuffle=True, drop_last=True)"
   ]
  },
  {
   "cell_type": "markdown",
   "metadata": {},
   "source": [
    "### Run Hamlyn Evaluation"
   ]
  },
  {
   "cell_type": "code",
   "execution_count": 6,
   "metadata": {
    "execution": {
     "iopub.execute_input": "2022-08-22T14:50:41.517543Z",
     "iopub.status.busy": "2022-08-22T14:50:41.516350Z",
     "iopub.status.idle": "2022-08-22T15:00:59.849227Z",
     "shell.execute_reply": "2022-08-22T15:00:59.848059Z",
     "shell.execute_reply.started": "2022-08-22T14:50:41.517510Z"
    }
   },
   "outputs": [
    {
     "name": "stderr",
     "output_type": "stream",
     "text": [
      "SSIM Evaluation:   0%|          | 0/898 [00:00<?, ?batch/s]/usr/local/lib/python3.9/dist-packages/torch/nn/functional.py:4215: UserWarning: Default grid_sample and affine_grid behavior has changed to align_corners=False since 1.3.0. Please specify align_corners=True if the old behavior is desired. See the documentation of grid_sample for details.\n",
      "  warnings.warn(\n",
      "SSIM Evaluation: 100%|██████████| 898/898 [10:18<00:00,  1.45batch/s, left=0.64, right=0.62]  \n"
     ]
    }
   ],
   "source": [
    "ssims, spars = evaluate_ssim(model, hamlyn_dataloader, hamlyn_save_to, kernel=1, device=device)"
   ]
  },
  {
   "cell_type": "markdown",
   "metadata": {},
   "source": [
    "#### SSIM Metric"
   ]
  },
  {
   "cell_type": "code",
   "execution_count": 9,
   "metadata": {
    "execution": {
     "iopub.execute_input": "2022-08-22T15:04:14.431789Z",
     "iopub.status.busy": "2022-08-22T15:04:14.431516Z",
     "iopub.status.idle": "2022-08-22T15:04:14.444216Z",
     "shell.execute_reply": "2022-08-22T15:04:14.443006Z",
     "shell.execute_reply.started": "2022-08-22T15:04:14.431767Z"
    }
   },
   "outputs": [
    {
     "name": "stdout",
     "output_type": "stream",
     "text": [
      "Hamlyn test set SSIM:\n",
      "\t- Mean: [0.6396763324737549, 0.6196554899215698]\n",
      "\t- Std. Deviation: [0.10349485278129578, 0.10857706516981125]\n"
     ]
    }
   ],
   "source": [
    "mean_ssim = np.mean(ssims, axis=0)\n",
    "std_ssim = np.std(ssims, axis=0)\n",
    "\n",
    "print(f'Hamlyn test set SSIM:'\n",
    "      f'\\n\\t- Mean: {mean_ssim.tolist()}'\n",
    "      f'\\n\\t- Std. Deviation: {std_ssim.tolist()}')\n",
    "\n",
    "results_dict['ssim'] = {\n",
    "    'mean': mean_ssim.tolist(),\n",
    "    'std': std_ssim.tolist()\n",
    "}"
   ]
  },
  {
   "cell_type": "markdown",
   "metadata": {},
   "source": [
    "#### Sparsification Plot and Metrics"
   ]
  },
  {
   "cell_type": "code",
   "execution_count": 12,
   "metadata": {
    "execution": {
     "iopub.execute_input": "2022-08-22T15:05:24.888777Z",
     "iopub.status.busy": "2022-08-22T15:05:24.887903Z",
     "iopub.status.idle": "2022-08-22T15:05:25.149163Z",
     "shell.execute_reply": "2022-08-22T15:05:25.148044Z",
     "shell.execute_reply.started": "2022-08-22T15:05:24.888749Z"
    }
   },
   "outputs": [
    {
     "name": "stdout",
     "output_type": "stream",
     "text": [
      "Hamlyn test set Sparsification:\n",
      "\t- AUSE: 0.23770845254905992\n",
      "\t- AURG: 0.3336652537728173\n"
     ]
    },
    {
     "data": {
      "image/png": "[encoded data removed]",
      "text/plain": [
       "<Figure size 1080x900 with 2 Axes>"
      ]
     },
     "metadata": {
      "needs_background": "light"
     },
     "output_type": "display_data"
    }
   ],
   "source": [
    "pred_curves, oracle_curves, random_curves = zip(*spars)\n",
    "\n",
    "pred_curve = np.array(pred_curves).mean(axis=0)\n",
    "oracle_curve = np.array(oracle_curves).mean(axis=0)\n",
    "random_curve = np.array(random_curves).mean(axis=0)\n",
    "\n",
    "error_curve = sparsification.error(oracle_curve, pred_curve)\n",
    "ause = sparsification.ause(oracle_curve, pred_curve)\n",
    "aurg = sparsification.aurg(pred_curve, random_curve)\n",
    "\n",
    "figure, (curve_axis, error_axis) = plt.subplots(2, 1)\n",
    "\n",
    "x_axis = np.linspace(0, 1, num=len(oracle_curve))\n",
    "\n",
    "curve_axis.plot(x_axis, oracle_curve, 'r--', label='Oracle')\n",
    "curve_axis.plot(x_axis, pred_curve, label='Predicted')\n",
    "curve_axis.plot(x_axis, random_curve, label='Random')\n",
    "curve_axis.legend()\n",
    "\n",
    "error_axis.plot(x_axis, error_curve)\n",
    "\n",
    "\n",
    "figure.set_size_inches((15, 12.5))\n",
    "\n",
    "\n",
    "print('Hamlyn test set Sparsification:'\n",
    "      f'\\n\\t- AUSE: {ause}'\n",
    "      f'\\n\\t- AURG: {aurg}')\n",
    "\n",
    "results_dict['sparsification'] = {\n",
    "    'ause': float(ause),\n",
    "    'aurg': float(aurg),\n",
    "    'curves': {\n",
    "        'oracle': oracle_curve.tolist(),\n",
    "        'predicted': pred_curve.tolist(),\n",
    "        'random': random_curve.tolist(),\n",
    "        'error': error_curve.tolist()\n",
    "    }\n",
    "}"
   ]
  },
  {
   "cell_type": "markdown",
   "metadata": {},
   "source": [
    "## SCARED MAE"
   ]
  },
  {
   "cell_type": "markdown",
   "metadata": {},
   "source": [
    "### Setup"
   ]
  },
  {
   "cell_type": "code",
   "execution_count": 4,
   "metadata": {
    "execution": {
     "iopub.execute_input": "2022-08-22T15:26:22.294250Z",
     "iopub.status.busy": "2022-08-22T15:26:22.293275Z",
     "iopub.status.idle": "2022-08-22T15:26:22.665562Z",
     "shell.execute_reply": "2022-08-22T15:26:22.664756Z",
     "shell.execute_reply.started": "2022-08-22T15:26:22.294215Z"
    }
   },
   "outputs": [
    {
     "name": "stdout",
     "output_type": "stream",
     "text": [
      "Size of SCARED Dataset 8: 5 images.\n",
      "Size of SCARED Dataset 9: 5 images.\n"
     ]
    }
   ],
   "source": [
    "scared_model_path = os.path.join('models', 'hamlyn', model_name)\n",
    "scared_save_to = os.path.join(model_save_to, 'scared')\n",
    "\n",
    "state_dict = torch.load(scared_model_path, map_location=device)\n",
    "state_dict = prepare_state_dict(state_dict)\n",
    "\n",
    "model.load_state_dict(state_dict)\n",
    "\n",
    "scared_dataset_8 = SCAREDKeyframesLoader(scared_path, 'test', 8, scared_transform)\n",
    "scared_dataloader_8 = DataLoader(scared_dataset_8, 1)\n",
    "\n",
    "print(f'Size of SCARED Dataset 8: {len(scared_dataset_8):,} images.')\n",
    "\n",
    "scared_dataset_9 = SCAREDKeyframesLoader(scared_path, 'test', 9, scared_transform)\n",
    "scared_dataloader_9 = DataLoader(scared_dataset_9, 1)\n",
    "\n",
    "print(f'Size of SCARED Dataset 9: {len(scared_dataset_9):,} images.')"
   ]
  },
  {
   "cell_type": "markdown",
   "metadata": {},
   "source": [
    "### Run SCARED Evaluation"
   ]
  },
  {
   "cell_type": "markdown",
   "metadata": {},
   "source": [
    "#### Dataset 8"
   ]
  },
  {
   "cell_type": "code",
   "execution_count": 5,
   "metadata": {
    "execution": {
     "iopub.execute_input": "2022-08-22T15:26:25.715459Z",
     "iopub.status.busy": "2022-08-22T15:26:25.714258Z",
     "iopub.status.idle": "2022-08-22T15:26:43.931887Z",
     "shell.execute_reply": "2022-08-22T15:26:43.931107Z",
     "shell.execute_reply.started": "2022-08-22T15:26:25.715424Z"
    }
   },
   "outputs": [
    {
     "name": "stderr",
     "output_type": "stream",
     "text": [
      "  0%|          | 0/5 [00:00<?, ?batch/s]/usr/local/lib/python3.9/dist-packages/torch/nn/functional.py:4215: UserWarning: Default grid_sample and affine_grid behavior has changed to align_corners=False since 1.3.0. Please specify align_corners=True if the old behavior is desired. See the documentation of grid_sample for details.\n",
      "  warnings.warn(\n",
      "100%|██████████| 5/5 [00:18<00:00,  3.64s/batch, mae=45.3]"
     ]
    },
    {
     "name": "stdout",
     "output_type": "stream",
     "text": [
      "Dataset 8 Keyframe MAEs: [86.68577800527385, 51.53217062549803, 32.66921690094172, 31.181849049733387, 24.260033110775733] mm\n",
      "Absolute Depth Error on SCARED Dataset 8:\n",
      "\t- Mean: 45.26580953844454 mm\n",
      "\t- Std. Deviation: 22.59714938446195 mm\n"
     ]
    },
    {
     "name": "stderr",
     "output_type": "stream",
     "text": [
      "\n"
     ]
    }
   ],
   "source": [
    "maes_8, metrics = evaluate_keyframes(model, scared_dataloader_8,\n",
    "                                     min_depth, max_depth,\n",
    "                                     save_results_to=scared_save_to,\n",
    "                                     device=device)\n",
    "mean_mae_8 = np.mean(maes_8)\n",
    "std_mae_8 = np.std(maes_8)\n",
    "\n",
    "print(f'Dataset 8 Keyframe MAEs: {maes_8} mm')\n",
    "print('Absolute Depth Error on SCARED Dataset 8:'\n",
    "      f'\\n\\t- Mean: {mean_mae_8} mm'\n",
    "      f'\\n\\t- Std. Deviation: {std_mae_8} mm')"
   ]
  },
  {
   "cell_type": "markdown",
   "metadata": {},
   "source": [
    "#### Dataset 9"
   ]
  },
  {
   "cell_type": "code",
   "execution_count": 6,
   "metadata": {
    "execution": {
     "iopub.execute_input": "2022-08-22T15:18:45.671648Z",
     "iopub.status.busy": "2022-08-22T15:18:45.670799Z",
     "iopub.status.idle": "2022-08-22T15:19:07.391652Z",
     "shell.execute_reply": "2022-08-22T15:19:07.390986Z",
     "shell.execute_reply.started": "2022-08-22T15:18:45.671611Z"
    }
   },
   "outputs": [
    {
     "name": "stderr",
     "output_type": "stream",
     "text": [
      "100%|██████████| 5/5 [00:21<00:00,  4.34s/batch, mae=30]  "
     ]
    },
    {
     "name": "stdout",
     "output_type": "stream",
     "text": [
      "Dataset 8 Keyframe MAEs: [53.74654036595182, 28.45652161536874, 34.5020216397841, 18.279314374726056, 15.206820755519947] mm\n",
      "Absolute Depth Error on SCARED Dataset 8:\n",
      "\t- Mean: 30.03824375027013 mm\n",
      "\t- Std. Deviation: 13.731380225485948 mm\n"
     ]
    },
    {
     "name": "stderr",
     "output_type": "stream",
     "text": [
      "\n"
     ]
    }
   ],
   "source": [
    "maes_9, metrics = evaluate_keyframes(model, scared_dataloader_9,\n",
    "                                     min_depth, max_depth,\n",
    "                                     save_results_to=scared_save_to,\n",
    "                                     device=device)\n",
    "mean_mae_9 = np.mean(maes_9)\n",
    "std_mae_9 = np.std(maes_9)\n",
    "\n",
    "print(f'Dataset 8 Keyframe MAEs: {maes_9} mm')\n",
    "print('Absolute Depth Error on SCARED Dataset 8:'\n",
    "      f'\\n\\t- Mean: {mean_mae_9} mm'\n",
    "      f'\\n\\t- Std. Deviation: {std_mae_9} mm')"
   ]
  },
  {
   "cell_type": "markdown",
   "metadata": {},
   "source": [
    "#### Save Results"
   ]
  },
  {
   "cell_type": "code",
   "execution_count": null,
   "metadata": {
    "execution": {
     "iopub.status.busy": "2022-08-22T15:04:14.479899Z",
     "iopub.status.idle": "2022-08-22T15:04:14.480161Z",
     "shell.execute_reply": "2022-08-22T15:04:14.480047Z",
     "shell.execute_reply.started": "2022-08-22T15:04:14.480035Z"
    }
   },
   "outputs": [],
   "source": [
    "results_dict['mae'] = {\n",
    "    'dataset_8': {\n",
    "        'mean': float(mean_mae_8),\n",
    "        'std': float(std_mae_8)\n",
    "    },\n",
    "    'dataset_9': {\n",
    "        'mean': float(mean_mae_9),\n",
    "        'std': float(std_mae_9)\n",
    "    }\n",
    "}"
   ]
  },
  {
   "cell_type": "markdown",
   "metadata": {},
   "source": [
    "## Save Results"
   ]
  },
  {
   "cell_type": "code",
   "execution_count": null,
   "metadata": {
    "execution": {
     "iopub.status.busy": "2022-08-22T15:04:14.481063Z",
     "iopub.status.idle": "2022-08-22T15:04:14.481334Z",
     "shell.execute_reply": "2022-08-22T15:04:14.481223Z",
     "shell.execute_reply.started": "2022-08-22T15:04:14.481210Z"
    }
   },
   "outputs": [],
   "source": [
    "save_to_path = os.path.join(save_to, model_stem, 'evaluation.json')\n",
    "\n",
    "with open(save_to_path, 'w+') as f:\n",
    "    json.dump(results_dict, f, indent=4)"
   ]
  }
 ],
 "metadata": {
  "kernelspec": {
   "display_name": "Python 3 (ipykernel)",
   "language": "python",
   "name": "python3"
  },
  "language_info": {
   "codemirror_mode": {
    "name": "ipython",
    "version": 3
   },
   "file_extension": ".py",
   "mimetype": "text/x-python",
   "name": "python",
   "nbconvert_exporter": "python",
   "pygments_lexer": "ipython3",
   "version": "3.9.13"
  },
  "vscode": {
   "interpreter": {
    "hash": "150b7516945f7222b22aa671f605619702d7b517da28017881bdfb428ff034ee"
   }
  }
 },
 "nbformat": 4,
 "nbformat_minor": 4
}
