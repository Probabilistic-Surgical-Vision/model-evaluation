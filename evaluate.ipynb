{
 "cells": [
  {
   "cell_type": "markdown",
   "metadata": {},
   "source": [
    "# Evaluate Models"
   ]
  },
  {
   "cell_type": "markdown",
   "metadata": {},
   "source": [
    "## Imports"
   ]
  },
  {
   "cell_type": "code",
   "execution_count": 1,
   "metadata": {
    "execution": {
     "iopub.execute_input": "2022-08-22T09:59:22.426771Z",
     "iopub.status.busy": "2022-08-22T09:59:22.426328Z",
     "iopub.status.idle": "2022-08-22T09:59:25.013757Z",
     "shell.execute_reply": "2022-08-22T09:59:25.011706Z",
     "shell.execute_reply.started": "2022-08-22T09:59:22.426687Z"
    }
   },
   "outputs": [
    {
     "ename": "NameError",
     "evalue": "name 'Optional' is not defined",
     "output_type": "error",
     "traceback": [
      "\u001b[0;31m---------------------------------------------------------------------------\u001b[0m",
      "\u001b[0;31mNameError\u001b[0m                                 Traceback (most recent call last)",
      "Input \u001b[0;32mIn [1]\u001b[0m, in \u001b[0;36m<cell line: 18>\u001b[0;34m()\u001b[0m\n\u001b[1;32m     15\u001b[0m \u001b[38;5;28;01mfrom\u001b[39;00m \u001b[38;5;21;01mmodel\u001b[39;00m \u001b[38;5;28;01mimport\u001b[39;00m RandomlyConnectedModel\n\u001b[1;32m     17\u001b[0m \u001b[38;5;28;01mfrom\u001b[39;00m \u001b[38;5;21;01mevaluation\u001b[39;00m\u001b[38;5;21;01m.\u001b[39;00m\u001b[38;5;21;01mhamlyn\u001b[39;00m \u001b[38;5;28;01mimport\u001b[39;00m evaluate_ssim\n\u001b[0;32m---> 18\u001b[0m \u001b[38;5;28;01mfrom\u001b[39;00m \u001b[38;5;21;01mevaluation\u001b[39;00m\u001b[38;5;21;01m.\u001b[39;00m\u001b[38;5;21;01mscared\u001b[39;00m \u001b[38;5;28;01mimport\u001b[39;00m evaluate_keyframes\n\u001b[1;32m     19\u001b[0m \u001b[38;5;28;01mfrom\u001b[39;00m \u001b[38;5;21;01mevaluation\u001b[39;00m\u001b[38;5;21;01m.\u001b[39;00m\u001b[38;5;21;01mutils\u001b[39;00m \u001b[38;5;28;01mimport\u001b[39;00m prepare_state_dict\n\u001b[1;32m     20\u001b[0m \u001b[38;5;28;01mfrom\u001b[39;00m \u001b[38;5;21;01mevaluation\u001b[39;00m \u001b[38;5;28;01mimport\u001b[39;00m sparsification \u001b[38;5;28;01mas\u001b[39;00m s\n",
      "File \u001b[0;32m/notebooks/evaluation/scared.py:16\u001b[0m, in \u001b[0;36m<module>\u001b[0;34m\u001b[0m\n\u001b[1;32m      9\u001b[0m \u001b[38;5;28;01mfrom\u001b[39;00m \u001b[38;5;21;01m.\u001b[39;00m \u001b[38;5;28;01mimport\u001b[39;00m utils \u001b[38;5;28;01mas\u001b[39;00m u\n\u001b[1;32m     10\u001b[0m \u001b[38;5;28;01mfrom\u001b[39;00m \u001b[38;5;21;01m.\u001b[39;00m\u001b[38;5;21;01mutils\u001b[39;00m \u001b[38;5;28;01mimport\u001b[39;00m Device\n\u001b[1;32m     13\u001b[0m \u001b[38;5;129m@torch\u001b[39m\u001b[38;5;241m.\u001b[39mno_grad()\n\u001b[1;32m     14\u001b[0m \u001b[38;5;28;01mdef\u001b[39;00m \u001b[38;5;21mevaluate_keyframes\u001b[39m(model: Module, loader: DataLoader,\n\u001b[1;32m     15\u001b[0m                        min_depth: \u001b[38;5;28mfloat\u001b[39m, max_depth: \u001b[38;5;28mfloat\u001b[39m,\n\u001b[0;32m---> 16\u001b[0m                        camera_parameters: \u001b[43mOptional\u001b[49m[Dict[\u001b[38;5;28mstr\u001b[39m, \u001b[38;5;28mfloat\u001b[39m]] \u001b[38;5;241m=\u001b[39m \u001b[38;5;28;01mNone\u001b[39;00m,\n\u001b[1;32m     17\u001b[0m                        device: Device \u001b[38;5;241m=\u001b[39m \u001b[38;5;124m'\u001b[39m\u001b[38;5;124mcpu\u001b[39m\u001b[38;5;124m'\u001b[39m, no_pbar: \u001b[38;5;28mbool\u001b[39m \u001b[38;5;241m=\u001b[39m \u001b[38;5;28;01mFalse\u001b[39;00m):\n\u001b[1;32m     18\u001b[0m     model\u001b[38;5;241m.\u001b[39meval()\n\u001b[1;32m     20\u001b[0m     running_mae \u001b[38;5;241m=\u001b[39m \u001b[38;5;241m0\u001b[39m\n",
      "\u001b[0;31mNameError\u001b[0m: name 'Optional' is not defined"
     ]
    }
   ],
   "source": [
    "import os.path\n",
    "\n",
    "import matplotlib.pyplot as plt\n",
    "\n",
    "import numpy as np\n",
    "\n",
    "import torch\n",
    "from torch.utils.data import DataLoader\n",
    "\n",
    "from torchvision import transforms\n",
    "\n",
    "import yaml\n",
    "import json\n",
    "\n",
    "from model import RandomlyConnectedModel\n",
    "\n",
    "from evaluation.hamlyn import evaluate_ssim\n",
    "from evaluation.scared import evaluate_keyframes\n",
    "from evaluation.utils import prepare_state_dict\n",
    "from evaluation import sparsification as s\n",
    "from evaluation import transforms as t\n",
    "\n",
    "from loaders.hamlyn import HamlynDataset\n",
    "from loaders.scared import SCAREDKeyframesLoader"
   ]
  },
  {
   "cell_type": "markdown",
   "metadata": {},
   "source": [
    "## Configuration"
   ]
  },
  {
   "cell_type": "code",
   "execution_count": null,
   "metadata": {
    "execution": {
     "iopub.status.busy": "2022-08-22T09:59:25.014589Z",
     "iopub.status.idle": "2022-08-22T09:59:25.015131Z",
     "shell.execute_reply": "2022-08-22T09:59:25.014992Z",
     "shell.execute_reply.started": "2022-08-22T09:59:25.014970Z"
    }
   },
   "outputs": [],
   "source": [
    "model_name = 'uncertainty-log.pt'\n",
    "model_config = 'uncertainty-config.yml'\n",
    "\n",
    "datasets_path = '../datasets/'\n",
    "hamlyn_path = os.path.join(datasets_path, 'da-vinci')\n",
    "scared_path = os.path.join(datasets_path, 'scared')\n",
    "\n",
    "batch_size = 8\n",
    "min_depth = 4.676 # mm\n",
    "max_depth = 180.554 # mm\n",
    "\n",
    "save_to = 'results'"
   ]
  },
  {
   "cell_type": "code",
   "execution_count": null,
   "metadata": {
    "execution": {
     "iopub.status.busy": "2022-08-22T09:59:25.016342Z",
     "iopub.status.idle": "2022-08-22T09:59:25.016749Z",
     "shell.execute_reply": "2022-08-22T09:59:25.016524Z",
     "shell.execute_reply.started": "2022-08-22T09:59:25.016511Z"
    }
   },
   "outputs": [],
   "source": [
    "device = torch.device('cuda') \\\n",
    "    if torch.cuda.is_available() \\\n",
    "    else torch.device('cpu')\n",
    "\n",
    "print(f'Using CUDA? {\"cuda\" in repr(device)}')\n",
    "\n",
    "with open(model_config) as f:\n",
    "    config = yaml.load(f, Loader=yaml.Loader)\n",
    "\n",
    "model = RandomlyConnectedModel(**config).to(device)\n",
    "\n",
    "model_stem = os.path.splitext(model_name)[0]\n",
    "model_save_to = os.path.join('results', model_stem)\n",
    "\n",
    "hamlyn_transform = transforms.Compose([\n",
    "    t.ResizeImage((256, 512)),\n",
    "    t.ToTensor()\n",
    "])\n",
    "\n",
    "scared_transform = transforms.Compose([\n",
    "    t.ResizeImage((1024, 1280)),\n",
    "    t.ToTensor()\n",
    "])\n",
    "\n",
    "results_dict = {}"
   ]
  },
  {
   "cell_type": "markdown",
   "metadata": {},
   "source": [
    "## Hamlyn SSIM/Sparsification"
   ]
  },
  {
   "cell_type": "markdown",
   "metadata": {},
   "source": [
    "### Setup"
   ]
  },
  {
   "cell_type": "code",
   "execution_count": null,
   "metadata": {},
   "outputs": [],
   "source": [
    "hamlyn_model_path = os.path.join('models', 'hamlyn', model_name)\n",
    "hamlyn_save_to = os.path.join(model_save_to, 'hamlyn')\n",
    "\n",
    "state_dict = torch.load(hamlyn_model_path, map_location=device)\n",
    "state_dict = prepare_state_dict(state_dict)\n",
    "\n",
    "model.load_state_dict(state_dict)\n",
    "\n",
    "hamlyn_dataset = HamlynDataset(hamlyn_path, 'test', hamlyn_transform)\n",
    "hamlyn_dataloader = DataLoader(hamlyn_dataset, batch_size, num_workers=8,\n",
    "                               shuffle=True, drop_last=True)"
   ]
  },
  {
   "cell_type": "markdown",
   "metadata": {},
   "source": [
    "### Run Hamlyn Evaluation"
   ]
  },
  {
   "cell_type": "code",
   "execution_count": null,
   "metadata": {},
   "outputs": [],
   "source": [
    "ssims, spars = evaluate_ssim(model, hamlyn_dataloader, hamlyn_save_to, kernel_size=1, device=device)"
   ]
  },
  {
   "cell_type": "markdown",
   "metadata": {},
   "source": [
    "#### SSIM Metric"
   ]
  },
  {
   "cell_type": "code",
   "execution_count": null,
   "metadata": {},
   "outputs": [],
   "source": [
    "mean_ssim = np.mean(ssims, axis=0)\n",
    "std_ssim = np.std(ssims, axis=0)\n",
    "\n",
    "print(f'Hamlyn test set SSIM:'\n",
    "      f'\\n\\t- Mean: {mean_ssim.tolist()}'\n",
    "      f'\\n\\t- Std. Deviation: {std_ssim.tolist()}')\n",
    "\n",
    "results_dict['ssim'] = {\n",
    "    'mean': mean_ssim.tolist(),\n",
    "    'std': std_ssim.tolist()\n",
    "}"
   ]
  },
  {
   "cell_type": "markdown",
   "metadata": {},
   "source": [
    "#### Sparsification Plot and Metrics"
   ]
  },
  {
   "cell_type": "markdown",
   "metadata": {
    "execution": {
     "iopub.execute_input": "2022-08-22T09:46:37.630994Z",
     "iopub.status.busy": "2022-08-22T09:46:37.630169Z",
     "iopub.status.idle": "2022-08-22T09:46:37.842581Z",
     "shell.execute_reply": "2022-08-22T09:46:37.841848Z",
     "shell.execute_reply.started": "2022-08-22T09:46:37.630964Z"
    }
   },
   "source": [
    "pred_curves, oracle_curves, random_curves = zip(*spars)\n",
    "\n",
    "pred_curve = np.array(pred_curves).mean(axis=0)\n",
    "oracle_curve = np.array(oracle_curves).mean(axis=0)\n",
    "random_curve = np.array(random_curves).mean(axis=0)\n",
    "\n",
    "error_curve = s.sparsification_error(oracle_curve, pred_curve)\n",
    "\n",
    "ause = s.ause(oracle_curve, pred_curve)\n",
    "aurg = s.aurg(pred_curve, random_curve)\n",
    "\n",
    "figure, (curve_axis, error_axis) = plt.subplots(2, 1)\n",
    "\n",
    "x_axis = np.linspace(0, 1, num=len(oracle_curve))\n",
    "\n",
    "curve_axis.plot(x_axis, oracle_curve, 'r--', label='Oracle')\n",
    "curve_axis.plot(x_axis, pred_curve, label='Predicted')\n",
    "curve_axis.plot(x_axis, random_curve, label='Random')\n",
    "curve_axis.legend()\n",
    "\n",
    "error_axis.plot(x_axis, error_curve)\n",
    "\n",
    "\n",
    "figure.set_size_inches((15, 12.5))\n",
    "\n",
    "\n",
    "print('Hamlyn test set Sparsification:'\n",
    "      f'\\n\\t- AUSE: {ause}'\n",
    "      f'\\n\\t- AURG: {aurg}')\n",
    "\n",
    "results_dict['sparsification'] = {\n",
    "    'ause': float(ause),\n",
    "    'aurg': float(aurg),\n",
    "    'curves': {\n",
    "        'oracle': oracle_curve.tolist(),\n",
    "        'predicted': pred_curve.tolist(),\n",
    "        'random': random_curve.tolist(),\n",
    "        'error': error_curve.tolist()\n",
    "    }\n",
    "}"
   ]
  },
  {
   "cell_type": "markdown",
   "metadata": {},
   "source": [
    "## SCARED MAE"
   ]
  },
  {
   "cell_type": "markdown",
   "metadata": {},
   "source": [
    "### Setup"
   ]
  },
  {
   "cell_type": "code",
   "execution_count": null,
   "metadata": {
    "execution": {
     "iopub.status.busy": "2022-08-22T09:59:25.017854Z",
     "iopub.status.idle": "2022-08-22T09:59:25.018204Z",
     "shell.execute_reply": "2022-08-22T09:59:25.018052Z",
     "shell.execute_reply.started": "2022-08-22T09:59:25.018036Z"
    }
   },
   "outputs": [],
   "source": [
    "scared_model_path = os.path.join('models', 'hamlyn', model_name)\n",
    "scared_save_to = os.path.join(model_save_to, 'scared')\n",
    "\n",
    "state_dict = torch.load(scared_model_path, map_location=device)\n",
    "state_dict = prepare_state_dict(state_dict)\n",
    "\n",
    "model.load_state_dict(state_dict)\n",
    "\n",
    "scared_dataset_8 = SCAREDKeyframesLoader(scared_path, 'test', 8, scared_transform)\n",
    "scared_dataloader_8 = DataLoader(scared_dataset_8, 1)\n",
    "\n",
    "print(f'Size of SCARED Dataset 8: {len(scared_dataset_8):,} images.')\n",
    "\n",
    "scared_dataset_9 = SCAREDKeyframesLoader(scared_path, 'test', 9, scared_transform)\n",
    "scared_dataloader_9 = DataLoader(scared_dataset_9, 1)\n",
    "\n",
    "print(f'Size of SCARED Dataset 9: {len(scared_dataset_9):,} images.')"
   ]
  },
  {
   "cell_type": "markdown",
   "metadata": {},
   "source": [
    "### Run SCARED Evaluation"
   ]
  },
  {
   "cell_type": "markdown",
   "metadata": {},
   "source": [
    "#### Dataset 8"
   ]
  },
  {
   "cell_type": "code",
   "execution_count": null,
   "metadata": {
    "execution": {
     "iopub.status.busy": "2022-08-22T09:59:25.019557Z",
     "iopub.status.idle": "2022-08-22T09:59:25.019871Z",
     "shell.execute_reply": "2022-08-22T09:59:25.019727Z",
     "shell.execute_reply.started": "2022-08-22T09:59:25.019707Z"
    }
   },
   "outputs": [],
   "source": [
    "maes_8 = evaluate_keyframes(model, scared_dataloader_8, min_depth, max_depth, device=device)\n",
    "mean_mae_8 = np.mean(maes_8)\n",
    "std_mae_8 = np.std(maes_8)\n",
    "\n",
    "print(f'Dataset 8 Keyframe MAEs: {maes_8} mm')\n",
    "print('Absolute Depth Error on SCARED Dataset 8:'\n",
    "      f'\\n\\t- Mean: {mean_mae_8} mm'\n",
    "      f'\\n\\t- Std. Deviation: {std_mae_8} mm')"
   ]
  },
  {
   "cell_type": "markdown",
   "metadata": {},
   "source": [
    "#### Dataset 9"
   ]
  },
  {
   "cell_type": "code",
   "execution_count": null,
   "metadata": {
    "execution": {
     "iopub.status.busy": "2022-08-22T09:59:25.021242Z",
     "iopub.status.idle": "2022-08-22T09:59:25.021571Z",
     "shell.execute_reply": "2022-08-22T09:59:25.021406Z",
     "shell.execute_reply.started": "2022-08-22T09:59:25.021393Z"
    }
   },
   "outputs": [],
   "source": [
    "maes_9 = evaluate_keyframes(model, scared_dataloader_9, min_depth, max_depth, device=device)\n",
    "mean_mae_9 = np.mean(maes_9)\n",
    "std_mae_9 = np.std(maes_9)\n",
    "\n",
    "print(f'Dataset 8 Keyframe MAEs: {maes_9} mm')\n",
    "print('Absolute Depth Error on SCARED Dataset 8:'\n",
    "      f'\\n\\t- Mean: {mean_mae_9} mm'\n",
    "      f'\\n\\t- Std. Deviation: {std_mae_9} mm')"
   ]
  },
  {
   "cell_type": "markdown",
   "metadata": {},
   "source": [
    "#### Save Results"
   ]
  },
  {
   "cell_type": "code",
   "execution_count": null,
   "metadata": {
    "execution": {
     "iopub.status.busy": "2022-08-22T09:59:25.023417Z",
     "iopub.status.idle": "2022-08-22T09:59:25.023746Z",
     "shell.execute_reply": "2022-08-22T09:59:25.023613Z",
     "shell.execute_reply.started": "2022-08-22T09:59:25.023599Z"
    }
   },
   "outputs": [],
   "source": [
    "results_dict['mae'] = {\n",
    "    'dataset_8': {\n",
    "        'mean': float(mean_mae_8),\n",
    "        'std': float(std_mae_8)\n",
    "    },\n",
    "    'dataset_9': {\n",
    "        'mean': float(mean_mae_9),\n",
    "        'std': float(std_mae_9)\n",
    "    }\n",
    "}"
   ]
  },
  {
   "cell_type": "markdown",
   "metadata": {},
   "source": [
    "## Save Results"
   ]
  },
  {
   "cell_type": "code",
   "execution_count": null,
   "metadata": {
    "execution": {
     "iopub.status.busy": "2022-08-22T09:59:25.024976Z",
     "iopub.status.idle": "2022-08-22T09:59:25.025278Z",
     "shell.execute_reply": "2022-08-22T09:59:25.025156Z",
     "shell.execute_reply.started": "2022-08-22T09:59:25.025143Z"
    }
   },
   "outputs": [],
   "source": [
    "save_to_path = os.path.join(save_to, model_stem, 'evaluation.json')\n",
    "\n",
    "with open(save_to_path, 'w+') as f:\n",
    "    json.dump(results_dict, f, indent=4)"
   ]
  }
 ],
 "metadata": {
  "kernelspec": {
   "display_name": "Python 3 (ipykernel)",
   "language": "python",
   "name": "python3"
  },
  "language_info": {
   "codemirror_mode": {
    "name": "ipython",
    "version": 3
   },
   "file_extension": ".py",
   "mimetype": "text/x-python",
   "name": "python",
   "nbconvert_exporter": "python",
   "pygments_lexer": "ipython3",
   "version": "3.9.13"
  },
  "vscode": {
   "interpreter": {
    "hash": "150b7516945f7222b22aa671f605619702d7b517da28017881bdfb428ff034ee"
   }
  }
 },
 "nbformat": 4,
 "nbformat_minor": 4
}
